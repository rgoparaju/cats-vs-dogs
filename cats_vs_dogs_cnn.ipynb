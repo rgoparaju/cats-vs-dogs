{
 "cells": [
  {
   "cell_type": "markdown",
   "metadata": {},
   "source": [
    "### Load the libraries"
   ]
  },
  {
   "cell_type": "code",
   "execution_count": 1,
   "metadata": {},
   "outputs": [],
   "source": [
    "import pandas as pd\n",
    "import matplotlib.pyplot as plt\n",
    "%matplotlib inline\n",
    "\n",
    "from src.img_annotator import PetImgAnnotator\n",
    "from src.dataset import DogsVsCatsDataset\n",
    "# from dataloader import DogsVsCatsDataloader\n",
    "import torch\n",
    "from torch.utils.data.dataloader import default_collate\n",
    "from torch.utils.data import DataLoader\n",
    "# import torchvision\n",
    "from src.net import Net\n",
    "from torch.nn import BCELoss\n",
    "import torch.optim as optim\n",
    "# from tqdm import tqdm"
   ]
  },
  {
   "cell_type": "markdown",
   "metadata": {},
   "source": [
    "### Create the Training and Testing DataLoaders"
   ]
  },
  {
   "cell_type": "code",
   "execution_count": 2,
   "metadata": {},
   "outputs": [],
   "source": [
    "annotator = PetImgAnnotator(0, r\"data\\PetImages\\Cat\", r\"data\\PetImages\\Dog\")\n",
    "\n",
    "train_split = 0.8\n",
    "train_labels, test_labels = annotator.create_pet_img_annotations(train_split)\n",
    "# train_labels = \"src/dogs_cats_train_labels.csv\"\n",
    "# test_labels = \"src/dogs_cats_test_labels.csv\""
   ]
  },
  {
   "cell_type": "markdown",
   "metadata": {},
   "source": [
    "#### Create image Collation function\n",
    "\n",
    "There are some corrupted image files in the this data set, which Python is not able to read properly. When this happens, an incorrectly sized batch is created, which the neural network can't process since its shape is mismatched to the expected shape given by the model architecture. As such, these images need to be ignored when putting together the batch."
   ]
  },
  {
   "cell_type": "code",
   "execution_count": 12,
   "metadata": {},
   "outputs": [],
   "source": [
    "def custom_collate(batch):\n",
    "    # batch = list(filter(lambda x:x is not None, batch))\n",
    "    new_batch = []\n",
    "    for image, label in batch:\n",
    "        if image != None:\n",
    "            new_batch.append((image, label))\n",
    "    return default_collate(new_batch)"
   ]
  },
  {
   "cell_type": "code",
   "execution_count": 13,
   "metadata": {},
   "outputs": [],
   "source": [
    "bs = 16\n",
    "\n",
    "traindata = DogsVsCatsDataset(train_labels)\n",
    "testdata = DogsVsCatsDataset(test_labels)\n",
    "\n",
    "# traindataloader = DogsVsCatsDataloader(traindata, batch_size = bs, shuffle = True)\n",
    "# testdataloader = DogsVsCatsDataloader(testdata, batch_size = bs, shuffle = True)\n",
    "\n",
    "traindataloader = DataLoader(\n",
    "    traindata,\n",
    "    batch_size = bs,\n",
    "    shuffle = True,\n",
    "    num_workers = 0,\n",
    "    collate_fn = custom_collate\n",
    ")\n",
    "\n",
    "testdataloader = DataLoader(\n",
    "    testdata,\n",
    "    batch_size = bs,\n",
    "    shuffle = True,\n",
    "    num_workers = 0,\n",
    "    collate_fn = custom_collate\n",
    ")"
   ]
  },
  {
   "cell_type": "code",
   "execution_count": 14,
   "metadata": {},
   "outputs": [
    {
     "name": "stdout",
     "output_type": "stream",
     "text": [
      "torch.Size([16, 3, 32, 32])\n",
      "tensor([[0., 1.],\n",
      "        [0., 1.],\n",
      "        [1., 0.],\n",
      "        [0., 1.],\n",
      "        [1., 0.],\n",
      "        [0., 1.],\n",
      "        [1., 0.],\n",
      "        [1., 0.],\n",
      "        [1., 0.],\n",
      "        [1., 0.],\n",
      "        [1., 0.],\n",
      "        [0., 1.],\n",
      "        [1., 0.],\n",
      "        [1., 0.],\n",
      "        [1., 0.],\n",
      "        [1., 0.]])\n"
     ]
    }
   ],
   "source": [
    "# print an example of the data\n",
    "dataiter = iter(traindataloader)\n",
    "image, label = next(dataiter)\n",
    "print(image.shape)\n",
    "print(label)"
   ]
  },
  {
   "cell_type": "markdown",
   "metadata": {},
   "source": [
    "### Create the Neural Network"
   ]
  },
  {
   "cell_type": "code",
   "execution_count": 15,
   "metadata": {},
   "outputs": [],
   "source": [
    "net = Net()\n",
    "loss_fn = BCELoss()\n",
    "optimizer = optim.SGD(net.parameters(), lr = 0.001, momentum = 0.9)"
   ]
  },
  {
   "cell_type": "markdown",
   "metadata": {},
   "source": [
    "### Train the Network on the Training Data\n",
    "\n",
    "Save the model's training loss per epoch in a .csv file, and save the model weights after training is completed"
   ]
  },
  {
   "cell_type": "code",
   "execution_count": 16,
   "metadata": {},
   "outputs": [
    {
     "name": "stderr",
     "output_type": "stream",
     "text": [
      "c:\\Users\\Ravi\\Anaconda3\\envs\\pytorch\\lib\\site-packages\\torch\\nn\\functional.py:718: UserWarning: Named tensors and all their associated APIs are an experimental feature and subject to change. Please do not use them for anything important until they are released as stable. (Triggered internally at  ..\\c10/core/TensorImpl.h:1156.)\n",
      "  return torch.max_pool2d(input, kernel_size, stride, padding, dilation, ceil_mode)\n"
     ]
    }
   ],
   "source": [
    "with open(\"train_loss_progress.csv\", \"a+\") as train_loss:\n",
    "    for epoch in range(2):\n",
    "        running_loss = 0.0\n",
    "        for inputs, labels in traindataloader:\n",
    "            preds = net(inputs)\n",
    "            optimizer.zero_grad()\n",
    "            loss = loss_fn(preds, labels)\n",
    "            loss.backward()\n",
    "            optimizer.step()\n",
    "\n",
    "            running_loss += loss.item()\n",
    "\n",
    "        epoch_loss = running_loss / len(traindata)\n",
    "        train_loss.write(f\"{epoch+1},{epoch_loss}\\n\")\n",
    "\n",
    "        \n",
    "\n",
    "    # acc = 0\n",
    "    # count = 0\n",
    "    # for inputs, labels in testdataloader:\n",
    "    #     y_pred = net(inputs)\n",
    "    #     acc += (torch.argmax(y_pred, 1) == labels).float().sum()\n",
    "    #     count += len(labels)\n",
    "    # acc /= count\n",
    "    # print(\"Epoch %d: model accuracy %.2f%%\" % (epoch, acc*100))"
   ]
  },
  {
   "cell_type": "markdown",
   "metadata": {},
   "source": [
    "#### Plot the Results of Training"
   ]
  },
  {
   "cell_type": "code",
   "execution_count": 27,
   "metadata": {},
   "outputs": [
    {
     "data": {
      "image/png": "[encoded data removed]",
      "text/plain": [
       "<Figure size 432x288 with 1 Axes>"
      ]
     },
     "metadata": {
      "needs_background": "light"
     },
     "output_type": "display_data"
    }
   ],
   "source": [
    "# train_loss = pd.read_csv(\"train_loss_progress.csv\", header = None)\n",
    "\n",
    "plt.plot(train_loss[0], train_loss[1]);"
   ]
  },
  {
   "cell_type": "markdown",
   "metadata": {},
   "source": [
    "### Check the Model Performance on the Testing Data"
   ]
  },
  {
   "cell_type": "code",
   "execution_count": 8,
   "metadata": {},
   "outputs": [
    {
     "name": "stderr",
     "output_type": "stream",
     "text": [
      " 33%|███▎      | 102/313 [00:31<01:10,  2.99it/s]c:\\Users\\Ravi\\Anaconda3\\envs\\pytorch\\lib\\site-packages\\PIL\\TiffImagePlugin.py:811: UserWarning: Truncated File Read\n",
      "  warnings.warn(str(msg))\n",
      "100%|██████████| 313/313 [01:32<00:00,  3.38it/s]\n"
     ]
    }
   ],
   "source": [
    "correct = 0\n",
    "total = 0\n",
    "with torch.no_grad():\n",
    "    for images, labels in testdataloader:\n",
    "        outputs = net(images)\n",
    "        _, predicted = torch.max(outputs.data, 1)\n",
    "        total += labels.size(0)\n",
    "        correct += (predicted == labels[:, 0]).sum().item()"
   ]
  },
  {
   "cell_type": "code",
   "execution_count": 9,
   "metadata": {},
   "outputs": [
    {
     "name": "stdout",
     "output_type": "stream",
     "text": [
      "Accuracy: 46%\n"
     ]
    }
   ],
   "source": [
    "print(f\"Accuracy: {100 * correct // total}%\")"
   ]
  },
  {
   "cell_type": "code",
   "execution_count": 56,
   "metadata": {},
   "outputs": [],
   "source": [
    "with torch.no_grad():\n",
    "    test_iter = iter(testdataloader)\n",
    "    example_test_imgs, example_test_labels = next(test_iter)"
   ]
  },
  {
   "cell_type": "code",
   "execution_count": 57,
   "metadata": {},
   "outputs": [
    {
     "data": {
      "text/plain": [
       "<matplotlib.image.AxesImage at 0x1cd552b81f0>"
      ]
     },
     "execution_count": 57,
     "metadata": {},
     "output_type": "execute_result"
    },
    {
     "data": {
      "image/png": "[encoded data removed]",
      "text/plain": [
       "<Figure size 432x288 with 1 Axes>"
      ]
     },
     "metadata": {
      "needs_background": "light"
     },
     "output_type": "display_data"
    }
   ],
   "source": [
    "plt.imshow(  example_test_imgs[0].permute(1, 2, 0)  )"
   ]
  },
  {
   "cell_type": "code",
   "execution_count": 110,
   "metadata": {},
   "outputs": [],
   "source": [
    "example_outputs = net(example_test_imgs)\n",
    "example_predictions = torch.argmax(example_outputs, dim = 1)"
   ]
  },
  {
   "cell_type": "code",
   "execution_count": 105,
   "metadata": {},
   "outputs": [
    {
     "data": {
      "text/plain": [
       "tensor([[1., 0.],\n",
       "        [0., 1.],\n",
       "        [0., 1.],\n",
       "        [1., 0.],\n",
       "        [1., 0.],\n",
       "        [1., 0.],\n",
       "        [0., 1.],\n",
       "        [0., 1.],\n",
       "        [1., 0.],\n",
       "        [0., 1.],\n",
       "        [1., 0.],\n",
       "        [1., 0.],\n",
       "        [1., 0.],\n",
       "        [1., 0.],\n",
       "        [1., 0.],\n",
       "        [1., 0.]])"
      ]
     },
     "execution_count": 105,
     "metadata": {},
     "output_type": "execute_result"
    }
   ],
   "source": [
    "example_test_labels"
   ]
  },
  {
   "cell_type": "code",
   "execution_count": 108,
   "metadata": {},
   "outputs": [
    {
     "data": {
      "text/plain": [
       "tensor([0., 1., 1., 0., 0., 0., 1., 1., 0., 1., 0., 0., 0., 0., 0., 0.])"
      ]
     },
     "execution_count": 108,
     "metadata": {},
     "output_type": "execute_result"
    }
   ],
   "source": [
    "example_test_labels[:, 1] # take index 1, which contain the correct singleton labels"
   ]
  },
  {
   "cell_type": "code",
   "execution_count": 124,
   "metadata": {},
   "outputs": [
    {
     "data": {
      "text/plain": [
       "tensor([False, False, False,  True, False,  True,  True, False, False, False,\n",
       "         True, False,  True, False,  True,  True])"
      ]
     },
     "execution_count": 124,
     "metadata": {},
     "output_type": "execute_result"
    }
   ],
   "source": [
    "example_test_labels[:, 1] == example_predictions"
   ]
  },
  {
   "cell_type": "code",
   "execution_count": null,
   "metadata": {},
   "outputs": [],
   "source": []
  }
 ],
 "metadata": {
  "kernelspec": {
   "display_name": "pytorch",
   "language": "python",
   "name": "python3"
  },
  "language_info": {
   "codemirror_mode": {
    "name": "ipython",
    "version": 3
   },
   "file_extension": ".py",
   "mimetype": "text/x-python",
   "name": "python",
   "nbconvert_exporter": "python",
   "pygments_lexer": "ipython3",
   "version": "3.9.6"
  }
 },
 "nbformat": 4,
 "nbformat_minor": 2
}
